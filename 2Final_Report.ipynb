{
 "cells": [
  {
   "cell_type": "markdown",
   "id": "fbf48439-62e7-44d8-a655-f7854bc5a3f8",
   "metadata": {},
   "source": [
    "### **Title**"
   ]
  },
  {
   "cell_type": "markdown",
   "id": "b1cfd817-fe35-45ad-80b7-8022a69ec3cb",
   "metadata": {},
   "source": [
    "**Introduction**\n",
    "\n",
    "A research group in Computer Science at UBC is collecting data on how people play video games. Many players were recruited, and many kinds of information about them were recorded as they navigated through a MineCraft server set up by the research group. \n",
    "One of the broad questions explored by this study is \"What player characteristics and behaviours are most predictive of subscribing to a game-related newsletter, and how do these features differ between various player types?\"\n",
    "\n",
    "To further investigate the variables most suited for this purpose, we proposed the question, \"Can the variables Age and played_hours work accurately to predict whether a person is or isn't subscribed to game-related newsletters in the game dataset?\"\n",
    "\n",
    "To answer this question, we will be using the players.csv dataset. This dataset contains seven columns with 195 observations of player-specific information. \n",
    "\n",
    "The seven columns are:\n",
    "1. hashedEmail (character)\n",
    "   - the email/username of each person\n",
    "   \n",
    "2. experience (character)\n",
    "   - Classification of the player type by experience\n",
    "   - ordered: Beginner, Amateur, Regular, Pro, Veteran\n",
    "\n",
    "3. subscribe (logical)\n",
    "   - whether they are subscribed for newsletters or not\n",
    "\n",
    "4. Name (character)\n",
    "   - Name of each person participating\n",
    "\n",
    "5. played_hours (double precision)\n",
    "   - The total time the player has spent in the game (in hours)\n",
    "\n",
    "6. gender (character)\n",
    "   - The gender of the people participating\n",
    "\n",
    "7. Age (double precision)\n",
    "   - The age of each person participating"
   ]
  },
  {
   "attachments": {},
   "cell_type": "markdown",
   "id": "e97235aa-9824-4eaa-83b9-f94ff565e7f5",
   "metadata": {},
   "source": [
    "Methods\n",
    "\n",
    "The code will start by loading the players.csv data and naming is players. Next, since we will be focusing on the Age, played hours, and the subscribe variables, we will remove all the NAs from the Age column and change subscribe into factors.\n",
    "\n",
    "The data analysis will start with splitting the players dataset into 75% for the training and 25% for the testing. The testing will be put aside for now while we create a Knn-classification algorithm with the training set. Since K-nearest neighbours is sensitive to the scale of the predictors, the data will be standardized when making the recipe. Next, a K-nearest neighbour model specification will be made, but the neighbour's argument will have tune() instead of a number to find the best K value. A simple tibble will be made to list the K values we will be testing (1 to 10), and the vfold_cv function will be used to perform a five cross-validation later on. After this, a workflow analysis will be made that combines the recipe and the model specification. The tune_grid function will be used instead of fit. The tibble and the cross-validation argument from earlier will be put inside. Lastly, we will use the function collect_metrics to aggregate the mean and standard error.\n",
    "\n",
    "Now that we have the metrics for each K value, we will filter accuracy from the .metric column and make a line plot with accuracy on the y-axis and the K values on the x-axis. Using the most accurate K, we will make a new K-nearest neighbour model specification and a workflow while still using the training set in the fit function. \n",
    "\n",
    "Next, we will assess the algorithm with the testing set. Predictions will be made using the predict and bind_cols function. The output will be put into the metrics function, then the accuracy will be filtered again. Lastly, this output will be put into two functions separately, precision and recall, to determine will the results are satisfactory.\n",
    "\n",
    "Below, we will perform the analysis. At the top of each code cell will be a comment explaining what is being accomplished in the cell."
   ]
  },
  {
   "cell_type": "code",
   "execution_count": 1,
   "id": "9fcc97eb-2fa1-4260-b042-2309503686b1",
   "metadata": {},
   "outputs": [
    {
     "name": "stderr",
     "output_type": "stream",
     "text": [
      "── \u001b[1mAttaching core tidyverse packages\u001b[22m ──────────────────────── tidyverse 2.0.0 ──\n",
      "\u001b[32m✔\u001b[39m \u001b[34mdplyr    \u001b[39m 1.1.4     \u001b[32m✔\u001b[39m \u001b[34mreadr    \u001b[39m 2.1.5\n",
      "\u001b[32m✔\u001b[39m \u001b[34mforcats  \u001b[39m 1.0.0     \u001b[32m✔\u001b[39m \u001b[34mstringr  \u001b[39m 1.5.1\n",
      "\u001b[32m✔\u001b[39m \u001b[34mggplot2  \u001b[39m 3.5.1     \u001b[32m✔\u001b[39m \u001b[34mtibble   \u001b[39m 3.2.1\n",
      "\u001b[32m✔\u001b[39m \u001b[34mlubridate\u001b[39m 1.9.3     \u001b[32m✔\u001b[39m \u001b[34mtidyr    \u001b[39m 1.3.1\n",
      "\u001b[32m✔\u001b[39m \u001b[34mpurrr    \u001b[39m 1.0.2     \n",
      "── \u001b[1mConflicts\u001b[22m ────────────────────────────────────────── tidyverse_conflicts() ──\n",
      "\u001b[31m✖\u001b[39m \u001b[34mdplyr\u001b[39m::\u001b[32mfilter()\u001b[39m masks \u001b[34mstats\u001b[39m::filter()\n",
      "\u001b[31m✖\u001b[39m \u001b[34mdplyr\u001b[39m::\u001b[32mlag()\u001b[39m    masks \u001b[34mstats\u001b[39m::lag()\n",
      "\u001b[36mℹ\u001b[39m Use the conflicted package (\u001b[3m\u001b[34m<http://conflicted.r-lib.org/>\u001b[39m\u001b[23m) to force all conflicts to become errors\n",
      "── \u001b[1mAttaching packages\u001b[22m ────────────────────────────────────── tidymodels 1.1.1 ──\n",
      "\n",
      "\u001b[32m✔\u001b[39m \u001b[34mbroom       \u001b[39m 1.0.6     \u001b[32m✔\u001b[39m \u001b[34mrsample     \u001b[39m 1.2.1\n",
      "\u001b[32m✔\u001b[39m \u001b[34mdials       \u001b[39m 1.3.0     \u001b[32m✔\u001b[39m \u001b[34mtune        \u001b[39m 1.1.2\n",
      "\u001b[32m✔\u001b[39m \u001b[34minfer       \u001b[39m 1.0.7     \u001b[32m✔\u001b[39m \u001b[34mworkflows   \u001b[39m 1.1.4\n",
      "\u001b[32m✔\u001b[39m \u001b[34mmodeldata   \u001b[39m 1.4.0     \u001b[32m✔\u001b[39m \u001b[34mworkflowsets\u001b[39m 1.0.1\n",
      "\u001b[32m✔\u001b[39m \u001b[34mparsnip     \u001b[39m 1.2.1     \u001b[32m✔\u001b[39m \u001b[34myardstick   \u001b[39m 1.3.1\n",
      "\u001b[32m✔\u001b[39m \u001b[34mrecipes     \u001b[39m 1.1.0     \n",
      "\n",
      "── \u001b[1mConflicts\u001b[22m ───────────────────────────────────────── tidymodels_conflicts() ──\n",
      "\u001b[31m✖\u001b[39m \u001b[34mscales\u001b[39m::\u001b[32mdiscard()\u001b[39m masks \u001b[34mpurrr\u001b[39m::discard()\n",
      "\u001b[31m✖\u001b[39m \u001b[34mdplyr\u001b[39m::\u001b[32mfilter()\u001b[39m   masks \u001b[34mstats\u001b[39m::filter()\n",
      "\u001b[31m✖\u001b[39m \u001b[34mrecipes\u001b[39m::\u001b[32mfixed()\u001b[39m  masks \u001b[34mstringr\u001b[39m::fixed()\n",
      "\u001b[31m✖\u001b[39m \u001b[34mdplyr\u001b[39m::\u001b[32mlag()\u001b[39m      masks \u001b[34mstats\u001b[39m::lag()\n",
      "\u001b[31m✖\u001b[39m \u001b[34myardstick\u001b[39m::\u001b[32mspec()\u001b[39m masks \u001b[34mreadr\u001b[39m::spec()\n",
      "\u001b[31m✖\u001b[39m \u001b[34mrecipes\u001b[39m::\u001b[32mstep()\u001b[39m   masks \u001b[34mstats\u001b[39m::step()\n",
      "\u001b[34m•\u001b[39m Use \u001b[32mtidymodels_prefer()\u001b[39m to resolve common conflicts.\n",
      "\n"
     ]
    }
   ],
   "source": [
    "# Loading in the relevant R packages for answering our question\n",
    "library(tidyverse)\n",
    "library(repr)\n",
    "library(tidymodels)\n",
    "\n",
    "options(repr.matrix.max.rows = 6)"
   ]
  },
  {
   "cell_type": "code",
   "execution_count": 2,
   "id": "1f2a996f-b707-4ee0-9444-b89310324ce7",
   "metadata": {},
   "outputs": [
    {
     "name": "stderr",
     "output_type": "stream",
     "text": [
      "\u001b[1mRows: \u001b[22m\u001b[34m196\u001b[39m \u001b[1mColumns: \u001b[22m\u001b[34m7\u001b[39m\n",
      "\u001b[36m──\u001b[39m \u001b[1mColumn specification\u001b[22m \u001b[36m────────────────────────────────────────────────────────\u001b[39m\n",
      "\u001b[1mDelimiter:\u001b[22m \",\"\n",
      "\u001b[31mchr\u001b[39m (4): experience, hashedEmail, name, gender\n",
      "\u001b[32mdbl\u001b[39m (2): played_hours, Age\n",
      "\u001b[33mlgl\u001b[39m (1): subscribe\n",
      "\n",
      "\u001b[36mℹ\u001b[39m Use `spec()` to retrieve the full column specification for this data.\n",
      "\u001b[36mℹ\u001b[39m Specify the column types or set `show_col_types = FALSE` to quiet this message.\n"
     ]
    }
   ],
   "source": [
    "# Loading in the players dataset\n",
    "\n",
    "players_url <- \"https://raw.githubusercontent.com/ryan-jleung/DSCI-planning-individual/main/players.csv\"\n",
    "players <- read_csv(players_url)"
   ]
  },
  {
   "cell_type": "code",
   "execution_count": 3,
   "id": "47744219-15fa-40b4-9dd4-ea28f6e2c50f",
   "metadata": {},
   "outputs": [
    {
     "data": {
      "text/html": [
       "<table class=\"dataframe\">\n",
       "<caption>A tibble: 194 × 3</caption>\n",
       "<thead>\n",
       "\t<tr><th scope=col>Age</th><th scope=col>played_hours</th><th scope=col>subscribe</th></tr>\n",
       "\t<tr><th scope=col>&lt;dbl&gt;</th><th scope=col>&lt;dbl&gt;</th><th scope=col>&lt;fct&gt;</th></tr>\n",
       "</thead>\n",
       "<tbody>\n",
       "\t<tr><td> 9</td><td>30.3</td><td>TRUE </td></tr>\n",
       "\t<tr><td>17</td><td> 3.8</td><td>TRUE </td></tr>\n",
       "\t<tr><td>17</td><td> 0.0</td><td>FALSE</td></tr>\n",
       "\t<tr><td>⋮</td><td>⋮</td><td>⋮</td></tr>\n",
       "\t<tr><td>22</td><td>0.3</td><td>FALSE</td></tr>\n",
       "\t<tr><td>17</td><td>0.0</td><td>FALSE</td></tr>\n",
       "\t<tr><td>17</td><td>2.3</td><td>FALSE</td></tr>\n",
       "</tbody>\n",
       "</table>\n"
      ],
      "text/latex": [
       "A tibble: 194 × 3\n",
       "\\begin{tabular}{lll}\n",
       " Age & played\\_hours & subscribe\\\\\n",
       " <dbl> & <dbl> & <fct>\\\\\n",
       "\\hline\n",
       "\t  9 & 30.3 & TRUE \\\\\n",
       "\t 17 &  3.8 & TRUE \\\\\n",
       "\t 17 &  0.0 & FALSE\\\\\n",
       "\t ⋮ & ⋮ & ⋮\\\\\n",
       "\t 22 & 0.3 & FALSE\\\\\n",
       "\t 17 & 0.0 & FALSE\\\\\n",
       "\t 17 & 2.3 & FALSE\\\\\n",
       "\\end{tabular}\n"
      ],
      "text/markdown": [
       "\n",
       "A tibble: 194 × 3\n",
       "\n",
       "| Age &lt;dbl&gt; | played_hours &lt;dbl&gt; | subscribe &lt;fct&gt; |\n",
       "|---|---|---|\n",
       "|  9 | 30.3 | TRUE  |\n",
       "| 17 |  3.8 | TRUE  |\n",
       "| 17 |  0.0 | FALSE |\n",
       "| ⋮ | ⋮ | ⋮ |\n",
       "| 22 | 0.3 | FALSE |\n",
       "| 17 | 0.0 | FALSE |\n",
       "| 17 | 2.3 | FALSE |\n",
       "\n"
      ],
      "text/plain": [
       "    Age played_hours subscribe\n",
       "1    9  30.3         TRUE     \n",
       "2   17   3.8         TRUE     \n",
       "3   17   0.0         FALSE    \n",
       "⋮   ⋮   ⋮            ⋮        \n",
       "192 22  0.3          FALSE    \n",
       "193 17  0.0          FALSE    \n",
       "194 17  2.3          FALSE    "
      ]
     },
     "metadata": {},
     "output_type": "display_data"
    }
   ],
   "source": [
    "# Wrangling the players data to isolate the relevant variables, filter out the \"NA\" responses in the \"Age\" column, and change the \"subscribe\" column values to factor rather than logical type\n",
    "\n",
    "players_data <- players |>\n",
    "    select(Age, played_hours, subscribe) |>\n",
    "    filter(!is.na(Age)) |>\n",
    "    mutate(subscribe = as_factor(subscribe))\n",
    "    \n",
    "players_data"
   ]
  },
  {
   "cell_type": "code",
   "execution_count": 4,
   "id": "e9f67af2-d2c0-45fc-bcef-f5e1ad5e1ca2",
   "metadata": {},
   "outputs": [
    {
     "data": {
      "text/html": [
       "<table class=\"dataframe\">\n",
       "<caption>A tibble: 145 × 3</caption>\n",
       "<thead>\n",
       "\t<tr><th scope=col>Age</th><th scope=col>played_hours</th><th scope=col>subscribe</th></tr>\n",
       "\t<tr><th scope=col>&lt;dbl&gt;</th><th scope=col>&lt;dbl&gt;</th><th scope=col>&lt;fct&gt;</th></tr>\n",
       "</thead>\n",
       "<tbody>\n",
       "\t<tr><td>22</td><td>0.0</td><td>FALSE</td></tr>\n",
       "\t<tr><td>17</td><td>0.1</td><td>FALSE</td></tr>\n",
       "\t<tr><td>23</td><td>0.0</td><td>FALSE</td></tr>\n",
       "\t<tr><td>⋮</td><td>⋮</td><td>⋮</td></tr>\n",
       "\t<tr><td>22</td><td>32.0</td><td>TRUE</td></tr>\n",
       "\t<tr><td>44</td><td> 0.1</td><td>TRUE</td></tr>\n",
       "\t<tr><td>17</td><td> 0.0</td><td>TRUE</td></tr>\n",
       "</tbody>\n",
       "</table>\n"
      ],
      "text/latex": [
       "A tibble: 145 × 3\n",
       "\\begin{tabular}{lll}\n",
       " Age & played\\_hours & subscribe\\\\\n",
       " <dbl> & <dbl> & <fct>\\\\\n",
       "\\hline\n",
       "\t 22 & 0.0 & FALSE\\\\\n",
       "\t 17 & 0.1 & FALSE\\\\\n",
       "\t 23 & 0.0 & FALSE\\\\\n",
       "\t ⋮ & ⋮ & ⋮\\\\\n",
       "\t 22 & 32.0 & TRUE\\\\\n",
       "\t 44 &  0.1 & TRUE\\\\\n",
       "\t 17 &  0.0 & TRUE\\\\\n",
       "\\end{tabular}\n"
      ],
      "text/markdown": [
       "\n",
       "A tibble: 145 × 3\n",
       "\n",
       "| Age &lt;dbl&gt; | played_hours &lt;dbl&gt; | subscribe &lt;fct&gt; |\n",
       "|---|---|---|\n",
       "| 22 | 0.0 | FALSE |\n",
       "| 17 | 0.1 | FALSE |\n",
       "| 23 | 0.0 | FALSE |\n",
       "| ⋮ | ⋮ | ⋮ |\n",
       "| 22 | 32.0 | TRUE |\n",
       "| 44 |  0.1 | TRUE |\n",
       "| 17 |  0.0 | TRUE |\n",
       "\n"
      ],
      "text/plain": [
       "    Age played_hours subscribe\n",
       "1   22  0.0          FALSE    \n",
       "2   17  0.1          FALSE    \n",
       "3   23  0.0          FALSE    \n",
       "⋮   ⋮   ⋮            ⋮        \n",
       "143 22  32.0         TRUE     \n",
       "144 44   0.1         TRUE     \n",
       "145 17   0.0         TRUE     "
      ]
     },
     "metadata": {},
     "output_type": "display_data"
    },
    {
     "data": {
      "text/html": [
       "<table class=\"dataframe\">\n",
       "<caption>A tibble: 49 × 3</caption>\n",
       "<thead>\n",
       "\t<tr><th scope=col>Age</th><th scope=col>played_hours</th><th scope=col>subscribe</th></tr>\n",
       "\t<tr><th scope=col>&lt;dbl&gt;</th><th scope=col>&lt;dbl&gt;</th><th scope=col>&lt;fct&gt;</th></tr>\n",
       "</thead>\n",
       "<tbody>\n",
       "\t<tr><td>17</td><td>0.0</td><td>FALSE</td></tr>\n",
       "\t<tr><td>21</td><td>0.1</td><td>TRUE </td></tr>\n",
       "\t<tr><td>21</td><td>0.0</td><td>FALSE</td></tr>\n",
       "\t<tr><td>⋮</td><td>⋮</td><td>⋮</td></tr>\n",
       "\t<tr><td>20</td><td>0.0</td><td>TRUE </td></tr>\n",
       "\t<tr><td>22</td><td>0.3</td><td>FALSE</td></tr>\n",
       "\t<tr><td>17</td><td>2.3</td><td>FALSE</td></tr>\n",
       "</tbody>\n",
       "</table>\n"
      ],
      "text/latex": [
       "A tibble: 49 × 3\n",
       "\\begin{tabular}{lll}\n",
       " Age & played\\_hours & subscribe\\\\\n",
       " <dbl> & <dbl> & <fct>\\\\\n",
       "\\hline\n",
       "\t 17 & 0.0 & FALSE\\\\\n",
       "\t 21 & 0.1 & TRUE \\\\\n",
       "\t 21 & 0.0 & FALSE\\\\\n",
       "\t ⋮ & ⋮ & ⋮\\\\\n",
       "\t 20 & 0.0 & TRUE \\\\\n",
       "\t 22 & 0.3 & FALSE\\\\\n",
       "\t 17 & 2.3 & FALSE\\\\\n",
       "\\end{tabular}\n"
      ],
      "text/markdown": [
       "\n",
       "A tibble: 49 × 3\n",
       "\n",
       "| Age &lt;dbl&gt; | played_hours &lt;dbl&gt; | subscribe &lt;fct&gt; |\n",
       "|---|---|---|\n",
       "| 17 | 0.0 | FALSE |\n",
       "| 21 | 0.1 | TRUE  |\n",
       "| 21 | 0.0 | FALSE |\n",
       "| ⋮ | ⋮ | ⋮ |\n",
       "| 20 | 0.0 | TRUE  |\n",
       "| 22 | 0.3 | FALSE |\n",
       "| 17 | 2.3 | FALSE |\n",
       "\n"
      ],
      "text/plain": [
       "   Age played_hours subscribe\n",
       "1  17  0.0          FALSE    \n",
       "2  21  0.1          TRUE     \n",
       "3  21  0.0          FALSE    \n",
       "⋮  ⋮   ⋮            ⋮        \n",
       "47 20  0.0          TRUE     \n",
       "48 22  0.3          FALSE    \n",
       "49 17  2.3          FALSE    "
      ]
     },
     "metadata": {},
     "output_type": "display_data"
    }
   ],
   "source": [
    "# Splitting the players data into a training and testing set with a ratio of 75:25, stratifying for the \"subscribe\" column\n",
    "players_split <- initial_split(players_data, prop=0.75, strata=subscribe)\n",
    "players_train <- training(players_split)\n",
    "players_test <- testing(players_split)\n",
    "\n",
    "players_train\n",
    "players_test"
   ]
  },
  {
   "cell_type": "code",
   "execution_count": 5,
   "id": "c10f6f48-01c9-4930-b939-685e6def357f",
   "metadata": {},
   "outputs": [
    {
     "name": "stderr",
     "output_type": "stream",
     "text": [
      "\n",
      "\n",
      "\u001b[36m──\u001b[39m \u001b[1mRecipe\u001b[22m \u001b[36m──────────────────────────────────────────────────────────────────────\u001b[39m\n",
      "\n",
      "\n",
      "\n",
      "── Inputs \n",
      "\n",
      "Number of variables by role\n",
      "\n",
      "outcome:   1\n",
      "predictor: 2\n",
      "\n",
      "\n",
      "\n",
      "── Operations \n",
      "\n",
      "\u001b[36m•\u001b[39m Scaling for: \u001b[34mall_predictors()\u001b[39m\n",
      "\n",
      "\u001b[36m•\u001b[39m Centering for: \u001b[34mall_predictors()\u001b[39m\n",
      "\n"
     ]
    }
   ],
   "source": [
    "# creating a recipe for data preprocessing using the training data, and standardizing the data\n",
    "\n",
    "players_recipe <- recipe(subscribe ~ Age + played_hours, data=players_train) |>\n",
    "    step_scale(all_predictors()) |>\n",
    "    step_center(all_predictors())\n",
    "\n",
    "players_recipe"
   ]
  },
  {
   "cell_type": "code",
   "execution_count": 6,
   "id": "44461ae2-3bc9-49b0-ba43-9079c715de59",
   "metadata": {},
   "outputs": [
    {
     "data": {
      "text/plain": [
       "K-Nearest Neighbor Model Specification (classification)\n",
       "\n",
       "Main Arguments:\n",
       "  neighbors = tune()\n",
       "  weight_func = rectangular\n",
       "\n",
       "Computational engine: kknn \n"
      ]
     },
     "metadata": {},
     "output_type": "display_data"
    }
   ],
   "source": [
    "# Creating the KNN model specification.\n",
    "# Note: the neighbors parameter is set to tune() to allow tuning for the best K-value\n",
    "\n",
    "knn_spec <- nearest_neighbor(weight_func = \"rectangular\", neighbors=tune()) |>\n",
    "    set_engine(\"kknn\") |>\n",
    "    set_mode(\"classification\")\n",
    "\n",
    "knn_spec"
   ]
  },
  {
   "cell_type": "code",
   "execution_count": 7,
   "id": "573a82d0-e0d2-49bb-9593-7c5746334125",
   "metadata": {},
   "outputs": [],
   "source": [
    "# Creating a tibble for feasible K-values and setting up 5-fold cross-validation to assess the performance of the model\n",
    "\n",
    "k_values <- tibble(neighbors=seq(1,15, by=1))\n",
    "cv_folds <- vfold_cv(players_train, v=5, strata=subscribe)\n",
    "\n",
    "# k_values\n",
    "# cv_folds"
   ]
  },
  {
   "cell_type": "code",
   "execution_count": 8,
   "id": "d14c1510-1621-40b7-aad8-4d066bf4295d",
   "metadata": {},
   "outputs": [
    {
     "data": {
      "text/html": [
       "<table class=\"dataframe\">\n",
       "<caption>A tibble: 30 × 7</caption>\n",
       "<thead>\n",
       "\t<tr><th scope=col>neighbors</th><th scope=col>.metric</th><th scope=col>.estimator</th><th scope=col>mean</th><th scope=col>n</th><th scope=col>std_err</th><th scope=col>.config</th></tr>\n",
       "\t<tr><th scope=col>&lt;dbl&gt;</th><th scope=col>&lt;chr&gt;</th><th scope=col>&lt;chr&gt;</th><th scope=col>&lt;dbl&gt;</th><th scope=col>&lt;int&gt;</th><th scope=col>&lt;dbl&gt;</th><th scope=col>&lt;chr&gt;</th></tr>\n",
       "</thead>\n",
       "<tbody>\n",
       "\t<tr><td>1</td><td>accuracy</td><td>binary</td><td>0.4958128</td><td>5</td><td>0.02918901</td><td>Preprocessor1_Model01</td></tr>\n",
       "\t<tr><td>1</td><td>roc_auc </td><td>binary</td><td>0.5094697</td><td>5</td><td>0.05217535</td><td>Preprocessor1_Model01</td></tr>\n",
       "\t<tr><td>2</td><td>accuracy</td><td>binary</td><td>0.4824795</td><td>5</td><td>0.03165220</td><td>Preprocessor1_Model02</td></tr>\n",
       "\t<tr><td>⋮</td><td>⋮</td><td>⋮</td><td>⋮</td><td>⋮</td><td>⋮</td><td>⋮</td></tr>\n",
       "\t<tr><td>14</td><td>roc_auc </td><td>binary</td><td>0.6213358</td><td>5</td><td>0.04671608</td><td>Preprocessor1_Model14</td></tr>\n",
       "\t<tr><td>15</td><td>accuracy</td><td>binary</td><td>0.7104433</td><td>5</td><td>0.01286309</td><td>Preprocessor1_Model15</td></tr>\n",
       "\t<tr><td>15</td><td>roc_auc </td><td>binary</td><td>0.5906772</td><td>5</td><td>0.04615586</td><td>Preprocessor1_Model15</td></tr>\n",
       "</tbody>\n",
       "</table>\n"
      ],
      "text/latex": [
       "A tibble: 30 × 7\n",
       "\\begin{tabular}{lllllll}\n",
       " neighbors & .metric & .estimator & mean & n & std\\_err & .config\\\\\n",
       " <dbl> & <chr> & <chr> & <dbl> & <int> & <dbl> & <chr>\\\\\n",
       "\\hline\n",
       "\t 1 & accuracy & binary & 0.4958128 & 5 & 0.02918901 & Preprocessor1\\_Model01\\\\\n",
       "\t 1 & roc\\_auc  & binary & 0.5094697 & 5 & 0.05217535 & Preprocessor1\\_Model01\\\\\n",
       "\t 2 & accuracy & binary & 0.4824795 & 5 & 0.03165220 & Preprocessor1\\_Model02\\\\\n",
       "\t ⋮ & ⋮ & ⋮ & ⋮ & ⋮ & ⋮ & ⋮\\\\\n",
       "\t 14 & roc\\_auc  & binary & 0.6213358 & 5 & 0.04671608 & Preprocessor1\\_Model14\\\\\n",
       "\t 15 & accuracy & binary & 0.7104433 & 5 & 0.01286309 & Preprocessor1\\_Model15\\\\\n",
       "\t 15 & roc\\_auc  & binary & 0.5906772 & 5 & 0.04615586 & Preprocessor1\\_Model15\\\\\n",
       "\\end{tabular}\n"
      ],
      "text/markdown": [
       "\n",
       "A tibble: 30 × 7\n",
       "\n",
       "| neighbors &lt;dbl&gt; | .metric &lt;chr&gt; | .estimator &lt;chr&gt; | mean &lt;dbl&gt; | n &lt;int&gt; | std_err &lt;dbl&gt; | .config &lt;chr&gt; |\n",
       "|---|---|---|---|---|---|---|\n",
       "| 1 | accuracy | binary | 0.4958128 | 5 | 0.02918901 | Preprocessor1_Model01 |\n",
       "| 1 | roc_auc  | binary | 0.5094697 | 5 | 0.05217535 | Preprocessor1_Model01 |\n",
       "| 2 | accuracy | binary | 0.4824795 | 5 | 0.03165220 | Preprocessor1_Model02 |\n",
       "| ⋮ | ⋮ | ⋮ | ⋮ | ⋮ | ⋮ | ⋮ |\n",
       "| 14 | roc_auc  | binary | 0.6213358 | 5 | 0.04671608 | Preprocessor1_Model14 |\n",
       "| 15 | accuracy | binary | 0.7104433 | 5 | 0.01286309 | Preprocessor1_Model15 |\n",
       "| 15 | roc_auc  | binary | 0.5906772 | 5 | 0.04615586 | Preprocessor1_Model15 |\n",
       "\n"
      ],
      "text/plain": [
       "   neighbors .metric  .estimator mean      n std_err    .config              \n",
       "1  1         accuracy binary     0.4958128 5 0.02918901 Preprocessor1_Model01\n",
       "2  1         roc_auc  binary     0.5094697 5 0.05217535 Preprocessor1_Model01\n",
       "3  2         accuracy binary     0.4824795 5 0.03165220 Preprocessor1_Model02\n",
       "⋮  ⋮         ⋮        ⋮          ⋮         ⋮ ⋮          ⋮                    \n",
       "28 14        roc_auc  binary     0.6213358 5 0.04671608 Preprocessor1_Model14\n",
       "29 15        accuracy binary     0.7104433 5 0.01286309 Preprocessor1_Model15\n",
       "30 15        roc_auc  binary     0.5906772 5 0.04615586 Preprocessor1_Model15"
      ]
     },
     "metadata": {},
     "output_type": "display_data"
    }
   ],
   "source": [
    "# Creating a workflow combining the recipe and model specification\n",
    "# Note: the tune_grid() function is used to perform 5-fold cross-validation to ensure more reliable performance estimates\n",
    "\n",
    "players_fit <- workflow() |>\n",
    "    add_recipe(players_recipe) |>\n",
    "    add_model(knn_spec) |>\n",
    "    tune_grid(resamples = cv_folds, grid=k_values) |>\n",
    "    collect_metrics()\n",
    "\n",
    "players_fit"
   ]
  },
  {
   "cell_type": "code",
   "execution_count": null,
   "id": "7dbe8b6e-ee3f-4e11-9011-5f082b709ee8",
   "metadata": {},
   "outputs": [],
   "source": []
  }
 ],
 "metadata": {
  "kernelspec": {
   "display_name": "R",
   "language": "R",
   "name": "ir"
  },
  "language_info": {
   "codemirror_mode": "r",
   "file_extension": ".r",
   "mimetype": "text/x-r-source",
   "name": "R",
   "pygments_lexer": "r",
   "version": "4.3.3"
  }
 },
 "nbformat": 4,
 "nbformat_minor": 5
}
