{
 "cells": [
  {
   "cell_type": "markdown",
   "id": "7a713fd2-0400-4a2d-9e5e-4178cb8dbe23",
   "metadata": {},
   "source": [
    "### **Title**"
   ]
  },
  {
   "cell_type": "markdown",
   "id": "50e8fc6c-1913-4bab-9631-16a45579733f",
   "metadata": {},
   "source": [
    "**Introduction**\n",
    "\n",
    "A research group in Computer Science at UBC is collecting data on how people play video games. Many players were recruited, and many kinds of information about them were recorded as they navigated through a MineCraft server set up by the research group. \n",
    "One of the broad questions explored by this study is \"What player characteristics and behaviours are most predictive of subscribing to a game-related newsletter, and how do these features differ between various player types?\"\n",
    "\n",
    "To further investigate the variables most suited for this purpose, we proposed the question, \"Can the variables Age and played_hours work accurately to predict whether a person is or isn't subscribed to game-related newsletters in the game dataset?\"\n",
    "\n",
    "To answer this question, we will be using the players.csv dataset. This dataset contains 7 columns with 195 observations on player-specific information. "
   ]
  },
  {
   "cell_type": "code",
   "execution_count": null,
   "id": "5df9fa57-4e5b-43de-98b2-972d37efc946",
   "metadata": {},
   "outputs": [],
   "source": []
  }
 ],
 "metadata": {
  "kernelspec": {
   "display_name": "R",
   "language": "R",
   "name": "ir"
  },
  "language_info": {
   "codemirror_mode": "r",
   "file_extension": ".r",
   "mimetype": "text/x-r-source",
   "name": "R",
   "pygments_lexer": "r",
   "version": "4.3.3"
  }
 },
 "nbformat": 4,
 "nbformat_minor": 5
}
