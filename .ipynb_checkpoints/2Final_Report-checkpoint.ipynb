{
 "cells": [
  {
   "cell_type": "markdown",
   "id": "fbf48439-62e7-44d8-a655-f7854bc5a3f8",
   "metadata": {},
   "source": [
    "### **Title**"
   ]
  },
  {
   "cell_type": "markdown",
   "id": "b1cfd817-fe35-45ad-80b7-8022a69ec3cb",
   "metadata": {},
   "source": [
    "**Introduction**\n",
    "\n",
    "A research group in Computer Science at UBC is collecting data on how people play video games. Many players were recruited, and many kinds of information about them were recorded as they navigated through a MineCraft server set up by the research group. \n",
    "One of the broad questions explored by this study is \"What player characteristics and behaviours are most predictive of subscribing to a game-related newsletter, and how do these features differ between various player types?\"\n",
    "\n",
    "To further investigate the variables most suited for this purpose, we proposed the question, \"Can the variables Age and played_hours work accurately to predict whether a person is or isn't subscribed to game-related newsletters in the game dataset?\"\n",
    "\n",
    "To answer this question, we will be using the players.csv dataset. This dataset contains seven columns with 195 observations of player-specific information. \n",
    "\n",
    "The seven columns are:\n",
    "1. hashedEmail (character)\n",
    "   - the email/username of each person\n",
    "   \n",
    "2. experience (character)\n",
    "   - Classification of the player type by experience\n",
    "   - ordered: Beginner, Amateur, Regular, Pro, Veteran\n",
    "\n",
    "3. subscribe (logical)\n",
    "   - whether they are subscribed for newsletters or not\n",
    "\n",
    "4. Name (character)\n",
    "   - Name of each person participating\n",
    "\n",
    "5. played_hours (double precision)\n",
    "   - The total time the player has spent in the game (in hours)\n",
    "\n",
    "6. gender (character)\n",
    "   - The gender of the people participating\n",
    "\n",
    "7. Age (double precision)\n",
    "   - The age of each person participating"
   ]
  },
  {
   "attachments": {},
   "cell_type": "markdown",
   "id": "e97235aa-9824-4eaa-83b9-f94ff565e7f5",
   "metadata": {},
   "source": [
    "Methods\n",
    "\n",
    "The code will start by loading the players.csv data and naming is players. Next, since we will be focusing on the Age, played hours, and the subscribe variables, we will remove all the NAs from the Age column and change subscribe into factors.\n",
    "\n",
    "The data analysis will start with splitting the players dataset into 75% for the training and 25% for the testing. The testing will be put aside for now while we create a Knn-classification algorithm with the training set. Since K-nearest neighbours is sensitive to the scale of the predictors, the data will be standardized when making the recipe. Next, a K-nearest neighbour model specification will be made, but the neighbour's argument will have tune() instead of a number to find the best K value. A simple tibble will be made to list the K values we will be testing (1 to 10), and the vfold_cv function will be used to perform a five cross-validation later on. After this, a workflow analysis will be made that combines the recipe and the model specification. The tune_grid function will be used instead of fit. The tibble and the cross-validation argument from earlier will be put inside. Lastly, we will use the function collect_metrics to aggregate the mean and standard error.\n",
    "\n",
    "Now that we have the metrics for each K value, we will filter accuracy from the .metric column and make a line plot with accuracy on the y-axis and the K values on the x-axis. Using the most accurate K, we will make a new K-nearest neighbour model specification and a workflow while still using the training set in the fit function. \n",
    "\n",
    "Next, we will assess the algorithm with the testing set. Predictions will be made using the predict and bind_cols function. The output will be put into the metrics function, then the accuracy will be filtered again. Lastly, this output will be put into two functions separately, precision and recall, to determine will the results are satisfactory.\n",
    "\n",
    "Below, we will perform the analysis. At the top of each code cell will be a comment explaining what is being accomplished in the cell."
   ]
  }
 ],
 "metadata": {
  "kernelspec": {
   "display_name": "R",
   "language": "R",
   "name": "ir"
  },
  "language_info": {
   "codemirror_mode": "r",
   "file_extension": ".r",
   "mimetype": "text/x-r-source",
   "name": "R",
   "pygments_lexer": "r",
   "version": "4.3.3"
  }
 },
 "nbformat": 4,
 "nbformat_minor": 5
}
