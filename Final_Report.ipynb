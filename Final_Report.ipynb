{
 "cells": [
  {
   "cell_type": "markdown",
   "id": "7a713fd2-0400-4a2d-9e5e-4178cb8dbe23",
   "metadata": {},
   "source": [
    "### **DSCI100 Project Final Report - Predicting Game Newsletter Subscriptions**"
   ]
  },
  {
   "cell_type": "markdown",
   "id": "50e8fc6c-1913-4bab-9631-16a45579733f",
   "metadata": {},
   "source": [
    "**Introduction**\n",
    "\n",
    "A research group in Computer Science at UBC is collecting data on how people play video games. Many players were recruited, and many kinds of information about them were recorded as they navigated through a MineCraft server set up by the research group. \n",
    "One of the broad questions explored by this study is \"What player characteristics and behaviours are most predictive of subscribing to a game-related newsletter, and how do these features differ between various player types?\"\n",
    "\n",
    "To further investigate the variables most suited for this purpose, we proposed the question, \"Can the variables Age and played_hours work accurately to predict whether a person is or isn't subscribed to game-related newsletters in the game dataset?\"\n",
    "\n",
    "To answer this question, we will be using the players.csv dataset. This dataset contains seven columns with 195 observations of player-specific information. \n",
    "\n",
    "The seven columns are:\n",
    "1. hashedEmail (character)\n",
    "   - the email/username of each person\n",
    "   \n",
    "2. experience (character)\n",
    "   - Classification of the player type by experience\n",
    "   - ordered: Beginner, Amateur, Regular, Pro, Veteran\n",
    "\n",
    "3. subscribe (logical)\n",
    "   - whether they are subscribed for newsletters or not\n",
    "\n",
    "4. Name (character)\n",
    "   - Name of each person participating\n",
    "\n",
    "5. played_hours (double precision)\n",
    "   - The total time the player has spent in the game (in hours)\n",
    "\n",
    "6. gender (character)\n",
    "   - The gender of the people participating\n",
    "\n",
    "7. Age (double precision)\n",
    "   - The age of each person participating"
   ]
  },
  {
   "cell_type": "markdown",
   "id": "af96552e-79cd-4c46-98de-f27d51b9eb87",
   "metadata": {},
   "source": [
    "**Methods**\n",
    "\n",
    "To perform our analysis, we will start by loading the players.csv data and naming is players. Next, since we will be focusing on the Age, played hours, and the subscribe variables, we will remove all the NAs from the Age column and change the values in the \"subscribe\" column into factors. \n",
    "\n",
    "The data analysis will start with splitting the players dataset, with 75% of the data allocated to the training set and 25% for the testing set. The testing set will be put aside for now while we create a KNN-Classification algorithm with the training set. Since K-nearest neighbours is sensitive to the scale of the predictors, the data will be standardized when making the recipe. Next, a K-nearest neighbours model specification will be made, with the \"neighbors\" argument as tune() to find the best K value. \n",
    "A simple tibble will be made to list the K values we will be testing, and the vfold_cv function will be used to perform a five cross-validation later on. After this, a workflow analysis will be made that combines the recipe and the model specification. The tune_grid function will be used instead of fit. The tibble and the cross-validation argument from earlier will be put inside. Lastly, we will use the function collect_metrics to aggregate the mean and standard error. \n",
    "\n",
    "Below, we will perform the analysis. At the top of each code cell will be a comment explaining what is being accomplished in the cell."
   ]
  },
  {
   "cell_type": "code",
   "execution_count": 4,
   "id": "19c4945b-6da0-4c82-9bba-b3100c18b702",
   "metadata": {},
   "outputs": [],
   "source": [
    "# Importing relevant packages for answering our question\n",
    "library(tidyverse)\n",
    "library(repr)\n",
    "library(tidymodels)\n",
    "\n",
    "options(repr.matrix.max.rows = 6)"
   ]
  },
  {
   "cell_type": "code",
   "execution_count": 5,
   "id": "ba666455-dc11-43fa-903c-f41433496fe0",
   "metadata": {},
   "outputs": [
    {
     "name": "stderr",
     "output_type": "stream",
     "text": [
      "\u001b[1mRows: \u001b[22m\u001b[34m196\u001b[39m \u001b[1mColumns: \u001b[22m\u001b[34m7\u001b[39m\n",
      "\u001b[36m──\u001b[39m \u001b[1mColumn specification\u001b[22m \u001b[36m────────────────────────────────────────────────────────\u001b[39m\n",
      "\u001b[1mDelimiter:\u001b[22m \",\"\n",
      "\u001b[31mchr\u001b[39m (4): experience, hashedEmail, name, gender\n",
      "\u001b[32mdbl\u001b[39m (2): played_hours, Age\n",
      "\u001b[33mlgl\u001b[39m (1): subscribe\n",
      "\n",
      "\u001b[36mℹ\u001b[39m Use `spec()` to retrieve the full column specification for this data.\n",
      "\u001b[36mℹ\u001b[39m Specify the column types or set `show_col_types = FALSE` to quiet this message.\n"
     ]
    }
   ],
   "source": [
    "# Reading in the players.csv dataset\n",
    "players_url <- \"https://raw.githubusercontent.com/ryan-jleung/DSCI-planning-individual/main/players.csv\"\n",
    "players <- read_csv(players_url)"
   ]
  },
  {
   "cell_type": "code",
   "execution_count": 34,
   "id": "a9f5699a-c74f-430b-95bc-552085b1124b",
   "metadata": {},
   "outputs": [
    {
     "data": {
      "text/html": [
       "<table class=\"dataframe\">\n",
       "<caption>A tibble: 194 × 3</caption>\n",
       "<thead>\n",
       "\t<tr><th scope=col>Age</th><th scope=col>played_hours</th><th scope=col>subscribe</th></tr>\n",
       "\t<tr><th scope=col>&lt;dbl&gt;</th><th scope=col>&lt;dbl&gt;</th><th scope=col>&lt;fct&gt;</th></tr>\n",
       "</thead>\n",
       "<tbody>\n",
       "\t<tr><td> 9</td><td>30.3</td><td>TRUE </td></tr>\n",
       "\t<tr><td>17</td><td> 3.8</td><td>TRUE </td></tr>\n",
       "\t<tr><td>17</td><td> 0.0</td><td>FALSE</td></tr>\n",
       "\t<tr><td>⋮</td><td>⋮</td><td>⋮</td></tr>\n",
       "\t<tr><td>22</td><td>0.3</td><td>FALSE</td></tr>\n",
       "\t<tr><td>17</td><td>0.0</td><td>FALSE</td></tr>\n",
       "\t<tr><td>17</td><td>2.3</td><td>FALSE</td></tr>\n",
       "</tbody>\n",
       "</table>\n"
      ],
      "text/latex": [
       "A tibble: 194 × 3\n",
       "\\begin{tabular}{lll}\n",
       " Age & played\\_hours & subscribe\\\\\n",
       " <dbl> & <dbl> & <fct>\\\\\n",
       "\\hline\n",
       "\t  9 & 30.3 & TRUE \\\\\n",
       "\t 17 &  3.8 & TRUE \\\\\n",
       "\t 17 &  0.0 & FALSE\\\\\n",
       "\t ⋮ & ⋮ & ⋮\\\\\n",
       "\t 22 & 0.3 & FALSE\\\\\n",
       "\t 17 & 0.0 & FALSE\\\\\n",
       "\t 17 & 2.3 & FALSE\\\\\n",
       "\\end{tabular}\n"
      ],
      "text/markdown": [
       "\n",
       "A tibble: 194 × 3\n",
       "\n",
       "| Age &lt;dbl&gt; | played_hours &lt;dbl&gt; | subscribe &lt;fct&gt; |\n",
       "|---|---|---|\n",
       "|  9 | 30.3 | TRUE  |\n",
       "| 17 |  3.8 | TRUE  |\n",
       "| 17 |  0.0 | FALSE |\n",
       "| ⋮ | ⋮ | ⋮ |\n",
       "| 22 | 0.3 | FALSE |\n",
       "| 17 | 0.0 | FALSE |\n",
       "| 17 | 2.3 | FALSE |\n",
       "\n"
      ],
      "text/plain": [
       "    Age played_hours subscribe\n",
       "1    9  30.3         TRUE     \n",
       "2   17   3.8         TRUE     \n",
       "3   17   0.0         FALSE    \n",
       "⋮   ⋮   ⋮            ⋮        \n",
       "192 22  0.3          FALSE    \n",
       "193 17  0.0          FALSE    \n",
       "194 17  2.3          FALSE    "
      ]
     },
     "metadata": {},
     "output_type": "display_data"
    }
   ],
   "source": [
    "# Wrangling so that players_info has the relevant columns and the \"subscribe\" column is a factor rather than a logical type.\n",
    "# Also removes \"NA\" responses in the \"Age\" column\n",
    "players_data <- players |>\n",
    "    select(Age, played_hours, subscribe) |>\n",
    "    filter(!is.na(Age)) |>\n",
    "    mutate(subscribe = as_factor(subscribe))\n",
    "    \n",
    "\n",
    "players_data"
   ]
  },
  {
   "cell_type": "code",
   "execution_count": 37,
   "id": "c1d0b056-b1da-4348-9757-43476bea2741",
   "metadata": {},
   "outputs": [
    {
     "data": {
      "text/html": [
       "<table class=\"dataframe\">\n",
       "<caption>A tibble: 145 × 3</caption>\n",
       "<thead>\n",
       "\t<tr><th scope=col>Age</th><th scope=col>played_hours</th><th scope=col>subscribe</th></tr>\n",
       "\t<tr><th scope=col>&lt;dbl&gt;</th><th scope=col>&lt;dbl&gt;</th><th scope=col>&lt;fct&gt;</th></tr>\n",
       "</thead>\n",
       "<tbody>\n",
       "\t<tr><td>17</td><td>0</td><td>FALSE</td></tr>\n",
       "\t<tr><td>21</td><td>0</td><td>FALSE</td></tr>\n",
       "\t<tr><td>22</td><td>0</td><td>FALSE</td></tr>\n",
       "\t<tr><td>⋮</td><td>⋮</td><td>⋮</td></tr>\n",
       "\t<tr><td>17</td><td>0</td><td>TRUE</td></tr>\n",
       "\t<tr><td>20</td><td>0</td><td>TRUE</td></tr>\n",
       "\t<tr><td>17</td><td>0</td><td>TRUE</td></tr>\n",
       "</tbody>\n",
       "</table>\n"
      ],
      "text/latex": [
       "A tibble: 145 × 3\n",
       "\\begin{tabular}{lll}\n",
       " Age & played\\_hours & subscribe\\\\\n",
       " <dbl> & <dbl> & <fct>\\\\\n",
       "\\hline\n",
       "\t 17 & 0 & FALSE\\\\\n",
       "\t 21 & 0 & FALSE\\\\\n",
       "\t 22 & 0 & FALSE\\\\\n",
       "\t ⋮ & ⋮ & ⋮\\\\\n",
       "\t 17 & 0 & TRUE\\\\\n",
       "\t 20 & 0 & TRUE\\\\\n",
       "\t 17 & 0 & TRUE\\\\\n",
       "\\end{tabular}\n"
      ],
      "text/markdown": [
       "\n",
       "A tibble: 145 × 3\n",
       "\n",
       "| Age &lt;dbl&gt; | played_hours &lt;dbl&gt; | subscribe &lt;fct&gt; |\n",
       "|---|---|---|\n",
       "| 17 | 0 | FALSE |\n",
       "| 21 | 0 | FALSE |\n",
       "| 22 | 0 | FALSE |\n",
       "| ⋮ | ⋮ | ⋮ |\n",
       "| 17 | 0 | TRUE |\n",
       "| 20 | 0 | TRUE |\n",
       "| 17 | 0 | TRUE |\n",
       "\n"
      ],
      "text/plain": [
       "    Age played_hours subscribe\n",
       "1   17  0            FALSE    \n",
       "2   21  0            FALSE    \n",
       "3   22  0            FALSE    \n",
       "⋮   ⋮   ⋮            ⋮        \n",
       "143 17  0            TRUE     \n",
       "144 20  0            TRUE     \n",
       "145 17  0            TRUE     "
      ]
     },
     "metadata": {},
     "output_type": "display_data"
    },
    {
     "data": {
      "text/html": [
       "<table class=\"dataframe\">\n",
       "<caption>A tibble: 49 × 3</caption>\n",
       "<thead>\n",
       "\t<tr><th scope=col>Age</th><th scope=col>played_hours</th><th scope=col>subscribe</th></tr>\n",
       "\t<tr><th scope=col>&lt;dbl&gt;</th><th scope=col>&lt;dbl&gt;</th><th scope=col>&lt;fct&gt;</th></tr>\n",
       "</thead>\n",
       "<tbody>\n",
       "\t<tr><td>17</td><td>3.8</td><td>TRUE</td></tr>\n",
       "\t<tr><td>21</td><td>0.7</td><td>TRUE</td></tr>\n",
       "\t<tr><td>17</td><td>0.1</td><td>TRUE</td></tr>\n",
       "\t<tr><td>⋮</td><td>⋮</td><td>⋮</td></tr>\n",
       "\t<tr><td>17</td><td>0.0</td><td>FALSE</td></tr>\n",
       "\t<tr><td>22</td><td>0.3</td><td>FALSE</td></tr>\n",
       "\t<tr><td>17</td><td>2.3</td><td>FALSE</td></tr>\n",
       "</tbody>\n",
       "</table>\n"
      ],
      "text/latex": [
       "A tibble: 49 × 3\n",
       "\\begin{tabular}{lll}\n",
       " Age & played\\_hours & subscribe\\\\\n",
       " <dbl> & <dbl> & <fct>\\\\\n",
       "\\hline\n",
       "\t 17 & 3.8 & TRUE\\\\\n",
       "\t 21 & 0.7 & TRUE\\\\\n",
       "\t 17 & 0.1 & TRUE\\\\\n",
       "\t ⋮ & ⋮ & ⋮\\\\\n",
       "\t 17 & 0.0 & FALSE\\\\\n",
       "\t 22 & 0.3 & FALSE\\\\\n",
       "\t 17 & 2.3 & FALSE\\\\\n",
       "\\end{tabular}\n"
      ],
      "text/markdown": [
       "\n",
       "A tibble: 49 × 3\n",
       "\n",
       "| Age &lt;dbl&gt; | played_hours &lt;dbl&gt; | subscribe &lt;fct&gt; |\n",
       "|---|---|---|\n",
       "| 17 | 3.8 | TRUE |\n",
       "| 21 | 0.7 | TRUE |\n",
       "| 17 | 0.1 | TRUE |\n",
       "| ⋮ | ⋮ | ⋮ |\n",
       "| 17 | 0.0 | FALSE |\n",
       "| 22 | 0.3 | FALSE |\n",
       "| 17 | 2.3 | FALSE |\n",
       "\n"
      ],
      "text/plain": [
       "   Age played_hours subscribe\n",
       "1  17  3.8          TRUE     \n",
       "2  21  0.7          TRUE     \n",
       "3  17  0.1          TRUE     \n",
       "⋮  ⋮   ⋮            ⋮        \n",
       "47 17  0.0          FALSE    \n",
       "48 22  0.3          FALSE    \n",
       "49 17  2.3          FALSE    "
      ]
     },
     "metadata": {},
     "output_type": "display_data"
    }
   ],
   "source": [
    "# Splitting the players data into a testing and training set\n",
    "players_split <- initial_split(players_data, prop=0.75, strata=subscribe)\n",
    "players_train <- training(players_split)\n",
    "players_test <- testing(players_split)\n",
    "\n",
    "players_train\n",
    "players_test"
   ]
  },
  {
   "cell_type": "code",
   "execution_count": 39,
   "id": "4787ce4f-2b66-4dfc-a569-5e69a3aa049c",
   "metadata": {},
   "outputs": [
    {
     "name": "stderr",
     "output_type": "stream",
     "text": [
      "\n",
      "\n",
      "\u001b[36m──\u001b[39m \u001b[1mRecipe\u001b[22m \u001b[36m──────────────────────────────────────────────────────────────────────\u001b[39m\n",
      "\n",
      "\n",
      "\n",
      "── Inputs \n",
      "\n",
      "Number of variables by role\n",
      "\n",
      "outcome:   1\n",
      "predictor: 2\n",
      "\n",
      "\n",
      "\n",
      "── Operations \n",
      "\n",
      "\u001b[36m•\u001b[39m Scaling for: \u001b[34mall_predictors()\u001b[39m\n",
      "\n",
      "\u001b[36m•\u001b[39m Centering for: \u001b[34mall_predictors()\u001b[39m\n",
      "\n"
     ]
    }
   ],
   "source": [
    "# Creating a recipe and scaling/centering the data to standardize and ensure age and played_hours contribute equally to the classification algorithm\n",
    "players_recipe <- recipe(subscribe ~ Age + played_hours, data=players_train) |>\n",
    "    step_scale(all_predictors()) |>\n",
    "    step_center(all_predictors())\n",
    "\n",
    "players_recipe"
   ]
  },
  {
   "cell_type": "code",
   "execution_count": 42,
   "id": "2454765e-3ba6-4c82-ba30-74c2898c56ca",
   "metadata": {},
   "outputs": [
    {
     "data": {
      "text/plain": [
       "K-Nearest Neighbor Model Specification (classification)\n",
       "\n",
       "Main Arguments:\n",
       "  neighbors = tune()\n",
       "  weight_func = rectangular\n",
       "\n",
       "Computational engine: kknn \n"
      ]
     },
     "metadata": {},
     "output_type": "display_data"
    }
   ],
   "source": [
    "# Creating the classifier for KNN-Classification using the straight-line distance\n",
    "knn_spec <- nearest_neighbor(weight_func = \"rectangular\", neighbors=tune()) |>\n",
    "    set_engine(\"kknn\") |>\n",
    "    set_mode(\"classification\")\n",
    "\n",
    "knn_spec"
   ]
  },
  {
   "cell_type": "code",
   "execution_count": 53,
   "id": "4752c673-597e-4c55-9d82-dea90d92c702",
   "metadata": {},
   "outputs": [
    {
     "data": {
      "text/html": [
       "<table class=\"dataframe\">\n",
       "<caption>A tibble: 15 × 1</caption>\n",
       "<thead>\n",
       "\t<tr><th scope=col>neighbors</th></tr>\n",
       "\t<tr><th scope=col>&lt;dbl&gt;</th></tr>\n",
       "</thead>\n",
       "<tbody>\n",
       "\t<tr><td>1</td></tr>\n",
       "\t<tr><td>2</td></tr>\n",
       "\t<tr><td>3</td></tr>\n",
       "\t<tr><td>⋮</td></tr>\n",
       "\t<tr><td>13</td></tr>\n",
       "\t<tr><td>14</td></tr>\n",
       "\t<tr><td>15</td></tr>\n",
       "</tbody>\n",
       "</table>\n"
      ],
      "text/latex": [
       "A tibble: 15 × 1\n",
       "\\begin{tabular}{l}\n",
       " neighbors\\\\\n",
       " <dbl>\\\\\n",
       "\\hline\n",
       "\t 1\\\\\n",
       "\t 2\\\\\n",
       "\t 3\\\\\n",
       "\t ⋮\\\\\n",
       "\t 13\\\\\n",
       "\t 14\\\\\n",
       "\t 15\\\\\n",
       "\\end{tabular}\n"
      ],
      "text/markdown": [
       "\n",
       "A tibble: 15 × 1\n",
       "\n",
       "| neighbors &lt;dbl&gt; |\n",
       "|---|\n",
       "| 1 |\n",
       "| 2 |\n",
       "| 3 |\n",
       "| ⋮ |\n",
       "| 13 |\n",
       "| 14 |\n",
       "| 15 |\n",
       "\n"
      ],
      "text/plain": [
       "   neighbors\n",
       "1  1        \n",
       "2  2        \n",
       "3  3        \n",
       "⋮  ⋮        \n",
       "13 13       \n",
       "14 14       \n",
       "15 15       "
      ]
     },
     "metadata": {},
     "output_type": "display_data"
    }
   ],
   "source": [
    "# Creating a 5-fold cross-validation model and tibble testing feasible K-values.\n",
    "# Note: Given that the players dataset only has 200 observations, testing K-values up to K=15 seems reasonable to avoid over/underfitting.\n",
    "\n",
    "k_values <- tibble(neighbors=seq(1,15, by=1))\n",
    "cv_folds <- vfold_cv(players_train, v=5, strata=subscribe)\n",
    "\n",
    "# k_values\n",
    "# cv_folds"
   ]
  },
  {
   "cell_type": "code",
   "execution_count": 54,
   "id": "307507da-232f-43c8-b459-072357c7ae76",
   "metadata": {},
   "outputs": [
    {
     "data": {
      "text/html": [
       "<table class=\"dataframe\">\n",
       "<caption>A tibble: 30 × 7</caption>\n",
       "<thead>\n",
       "\t<tr><th scope=col>neighbors</th><th scope=col>.metric</th><th scope=col>.estimator</th><th scope=col>mean</th><th scope=col>n</th><th scope=col>std_err</th><th scope=col>.config</th></tr>\n",
       "\t<tr><th scope=col>&lt;dbl&gt;</th><th scope=col>&lt;chr&gt;</th><th scope=col>&lt;chr&gt;</th><th scope=col>&lt;dbl&gt;</th><th scope=col>&lt;int&gt;</th><th scope=col>&lt;dbl&gt;</th><th scope=col>&lt;chr&gt;</th></tr>\n",
       "</thead>\n",
       "<tbody>\n",
       "\t<tr><td>1</td><td>accuracy</td><td>binary</td><td>0.4818391</td><td>5</td><td>0.04895715</td><td>Preprocessor1_Model01</td></tr>\n",
       "\t<tr><td>1</td><td>roc_auc </td><td>binary</td><td>0.5094697</td><td>5</td><td>0.05505304</td><td>Preprocessor1_Model01</td></tr>\n",
       "\t<tr><td>2</td><td>accuracy</td><td>binary</td><td>0.4818391</td><td>5</td><td>0.04895715</td><td>Preprocessor1_Model02</td></tr>\n",
       "\t<tr><td>⋮</td><td>⋮</td><td>⋮</td><td>⋮</td><td>⋮</td><td>⋮</td><td>⋮</td></tr>\n",
       "\t<tr><td>14</td><td>roc_auc </td><td>binary</td><td>0.4928455</td><td>5</td><td>0.040588780</td><td>Preprocessor1_Model14</td></tr>\n",
       "\t<tr><td>15</td><td>accuracy</td><td>binary</td><td>0.7242529</td><td>5</td><td>0.009854939</td><td>Preprocessor1_Model15</td></tr>\n",
       "\t<tr><td>15</td><td>roc_auc </td><td>binary</td><td>0.5143089</td><td>5</td><td>0.043242765</td><td>Preprocessor1_Model15</td></tr>\n",
       "</tbody>\n",
       "</table>\n"
      ],
      "text/latex": [
       "A tibble: 30 × 7\n",
       "\\begin{tabular}{lllllll}\n",
       " neighbors & .metric & .estimator & mean & n & std\\_err & .config\\\\\n",
       " <dbl> & <chr> & <chr> & <dbl> & <int> & <dbl> & <chr>\\\\\n",
       "\\hline\n",
       "\t 1 & accuracy & binary & 0.4818391 & 5 & 0.04895715 & Preprocessor1\\_Model01\\\\\n",
       "\t 1 & roc\\_auc  & binary & 0.5094697 & 5 & 0.05505304 & Preprocessor1\\_Model01\\\\\n",
       "\t 2 & accuracy & binary & 0.4818391 & 5 & 0.04895715 & Preprocessor1\\_Model02\\\\\n",
       "\t ⋮ & ⋮ & ⋮ & ⋮ & ⋮ & ⋮ & ⋮\\\\\n",
       "\t 14 & roc\\_auc  & binary & 0.4928455 & 5 & 0.040588780 & Preprocessor1\\_Model14\\\\\n",
       "\t 15 & accuracy & binary & 0.7242529 & 5 & 0.009854939 & Preprocessor1\\_Model15\\\\\n",
       "\t 15 & roc\\_auc  & binary & 0.5143089 & 5 & 0.043242765 & Preprocessor1\\_Model15\\\\\n",
       "\\end{tabular}\n"
      ],
      "text/markdown": [
       "\n",
       "A tibble: 30 × 7\n",
       "\n",
       "| neighbors &lt;dbl&gt; | .metric &lt;chr&gt; | .estimator &lt;chr&gt; | mean &lt;dbl&gt; | n &lt;int&gt; | std_err &lt;dbl&gt; | .config &lt;chr&gt; |\n",
       "|---|---|---|---|---|---|---|\n",
       "| 1 | accuracy | binary | 0.4818391 | 5 | 0.04895715 | Preprocessor1_Model01 |\n",
       "| 1 | roc_auc  | binary | 0.5094697 | 5 | 0.05505304 | Preprocessor1_Model01 |\n",
       "| 2 | accuracy | binary | 0.4818391 | 5 | 0.04895715 | Preprocessor1_Model02 |\n",
       "| ⋮ | ⋮ | ⋮ | ⋮ | ⋮ | ⋮ | ⋮ |\n",
       "| 14 | roc_auc  | binary | 0.4928455 | 5 | 0.040588780 | Preprocessor1_Model14 |\n",
       "| 15 | accuracy | binary | 0.7242529 | 5 | 0.009854939 | Preprocessor1_Model15 |\n",
       "| 15 | roc_auc  | binary | 0.5143089 | 5 | 0.043242765 | Preprocessor1_Model15 |\n",
       "\n"
      ],
      "text/plain": [
       "   neighbors .metric  .estimator mean      n std_err     .config              \n",
       "1  1         accuracy binary     0.4818391 5 0.04895715  Preprocessor1_Model01\n",
       "2  1         roc_auc  binary     0.5094697 5 0.05505304  Preprocessor1_Model01\n",
       "3  2         accuracy binary     0.4818391 5 0.04895715  Preprocessor1_Model02\n",
       "⋮  ⋮         ⋮        ⋮          ⋮         ⋮ ⋮           ⋮                    \n",
       "28 14        roc_auc  binary     0.4928455 5 0.040588780 Preprocessor1_Model14\n",
       "29 15        accuracy binary     0.7242529 5 0.009854939 Preprocessor1_Model15\n",
       "30 15        roc_auc  binary     0.5143089 5 0.043242765 Preprocessor1_Model15"
      ]
     },
     "metadata": {},
     "output_type": "display_data"
    }
   ],
   "source": [
    "# Training the classifier with the train/validation split using K-values of 1-15.\n",
    "# Note: tune_grid() allows us to test multiple combinations of K-values.\n",
    "players_fit <- workflow() |>\n",
    "    add_recipe(players_recipe) |>\n",
    "    add_model(knn_spec) |>\n",
    "    tune_grid(resamples = cv_folds, grid=k_values) |>\n",
    "    collect_metrics()\n",
    "\n",
    "players_fit"
   ]
  },
  {
   "cell_type": "code",
   "execution_count": null,
   "id": "77c94099-3068-433c-a40e-b1a25119de5e",
   "metadata": {},
   "outputs": [],
   "source": []
  }
 ],
 "metadata": {
  "kernelspec": {
   "display_name": "R",
   "language": "R",
   "name": "ir"
  },
  "language_info": {
   "codemirror_mode": "r",
   "file_extension": ".r",
   "mimetype": "text/x-r-source",
   "name": "R",
   "pygments_lexer": "r",
   "version": "4.3.3"
  }
 },
 "nbformat": 4,
 "nbformat_minor": 5
}
