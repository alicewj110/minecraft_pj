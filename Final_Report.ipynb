{
 "cells": [
  {
   "cell_type": "markdown",
   "id": "7a713fd2-0400-4a2d-9e5e-4178cb8dbe23",
   "metadata": {},
   "source": [
    "### **Title**"
   ]
  },
  {
   "cell_type": "markdown",
   "id": "50e8fc6c-1913-4bab-9631-16a45579733f",
   "metadata": {},
   "source": [
    "**Introduction**\n",
    "\n",
    "A research group in Computer Science at UBC is collecting data on how people play video games. Many players were recruited, and many kinds of information about them were recorded as they navigated through a MineCraft server set up by the research group. \n",
    "One of the broad questions explored by this study is \"What player characteristics and behaviours are most predictive of subscribing to a game-related newsletter, and how do these features differ between various player types?\"\n",
    "\n",
    "To further investigate the variables most suited for this purpose, we proposed the question, \"Can the variables Age and played_hours work accurately to predict whether a person is or isn't subscribed to game-related newsletters in the game dataset?\"\n",
    "\n",
    "To answer this question, we will be using the players.csv dataset. This dataset contains seven columns with 195 observations of player-specific information. \n",
    "\n",
    "The seven columns are:\n",
    "1. hashedEmail (character)\n",
    "   - the email/username of each person\n",
    "   \n",
    "2. experience (character)\n",
    "   - Classification of the player type by experience\n",
    "   - ordered: Beginner, Amateur, Regular, Pro, Veteran\n",
    "\n",
    "3. subscribe (logical)\n",
    "   - whether they are subscribed for newsletters or not\n",
    "\n",
    "4. Name (character)\n",
    "   - Name of each person participating\n",
    "\n",
    "5. played_hours (double precision)\n",
    "   - The total time the player has spent in the game (in hours)\n",
    "\n",
    "6. gender (character)\n",
    "   - The gender of the people participating\n",
    "\n",
    "7. Age (double precision)\n",
    "   - The age of each person participating"
   ]
  },
  {
   "cell_type": "markdown",
   "id": "af96552e-79cd-4c46-98de-f27d51b9eb87",
   "metadata": {},
   "source": [
    "**Methods**"
   ]
  },
  {
   "cell_type": "code",
   "execution_count": null,
   "id": "ba666455-dc11-43fa-903c-f41433496fe0",
   "metadata": {},
   "outputs": [],
   "source": []
  }
 ],
 "metadata": {
  "kernelspec": {
   "display_name": "R",
   "language": "R",
   "name": "ir"
  },
  "language_info": {
   "codemirror_mode": "r",
   "file_extension": ".r",
   "mimetype": "text/x-r-source",
   "name": "R",
   "pygments_lexer": "r",
   "version": "4.3.3"
  }
 },
 "nbformat": 4,
 "nbformat_minor": 5
}
